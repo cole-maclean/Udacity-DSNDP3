{
 "cells": [
  {
   "cell_type": "markdown",
   "metadata": {},
   "source": [
    "<b>Data Munging and Analyzing Barcelona OSM Data With MongoDB</b>\n",
    "\n",
    "The XML data for the city boundary of Barcelona was downloaded from OSM to clean and transform into a json encodable structure to allow loading into MongoDB, providing storage and artbitrary querying to enable further data analysis of the Barcelona OSM dataset. I chose the Barcelona dataset because I just recently spent a few weeks there and noticed some pretty cool urban planning features of the city (ie. Avinguda Diagonal) that could be interesting to explore further.\n",
    "\n",
    "<img src=\"http://static1.squarespace.com/static/52b3aae6e4b00492bb71aa3d/t/54776cbde4b019f8929d0684/1414769949925/?format=1500w\" style=\"width: 650px;\">\n",
    "\n",
    "From [dailyoverview.com](http://www.dailyoverview.com/six/)"
   ]
  },
  {
   "cell_type": "markdown",
   "metadata": {},
   "source": [
    "<b>Problems Encountered in the Dataset</b>  \n",
    "After reviewing samples of the Barcelona OSM dataset, a few data quality issues were observed, including:\n",
    "1. Inconsistent house number - single numbers (ie. \"120\"), ranges (ie. \"119-121\") or lists (ie. \"119,121\")  \n",
    "2. Inconsistent sources dates - Various combinations of Year, Month and Day  "
   ]
  },
  {
   "cell_type": "markdown",
   "metadata": {},
   "source": [
    "<b>Standardizing House Number Data</b>  \n",
    "As part of auditing the OSM dataset for Barcelona, it was observed that the way houses are numbered are inconsistent. House numbers were standardized into lists of the numbers if delimited by a \"-\" or \",\", otherwise tranformed into a single item list of the \"addr:housenumber\" attribute. Once standardized, queries were run to see the top 5 most common house numbers in Barcelona."
   ]
  },
  {
   "cell_type": "code",
   "execution_count": 22,
   "metadata": {
    "collapsed": false
   },
   "outputs": [
    {
     "name": "stdout",
     "output_type": "stream",
     "text": [
      "house_num = 1 count = 304\n",
      "house_num = 2 count = 294\n",
      "house_num = 3 count = 278\n",
      "house_num = 5 count = 268\n",
      "house_num = 8 count = 252\n",
      "house_num = 4 count = 242\n",
      "house_num = 6 count = 237\n",
      "house_num = 7 count = 231\n",
      "house_num = 10 count = 226\n",
      "house_num = 9 count = 218\n",
      "house_num = 13 count = 195\n"
     ]
    }
   ],
   "source": [
    "import sys\n",
    "import json\n",
    "sys.path.insert(0,\"C:/Users/Cole/Desktop/Udacity/Data Analyst Nano Degree/Project 3/Udacity-DSNDP3\")\n",
    "import OSM_data_wrangling as OSMDW\n",
    "osm =OSMDW.connect_OSM_collection()\n",
    "house_nums = osm.aggregate([{\"$match\":{\"addr:housenumber\":{\"$exists\":1}}},{\"$unwind\":\"$addr:housenumber\"},\n",
    "                     {\"$group\":{\"_id\":\"$addr:housenumber\", \"count\":{\"$sum\":1}}}, {\"$sort\":{\"count\":-1}},\n",
    "                      {\"$limit\":11}])\n",
    "for house_num in house_nums:\n",
    "    print \"house_num = \" + house_num['_id'] + \" count = \" + str(house_num['count'])"
   ]
  },
  {
   "cell_type": "markdown",
   "metadata": {},
   "source": [
    "From this data, it appears that the rank of house number corresponds with its numerical value. It is interesting to note that the correlation is not exact, and numbers begin to jump around in order slightly after only the top 3 house numbers.\n"
   ]
  },
  {
   "cell_type": "markdown",
   "metadata": {},
   "source": [
    "<b>Standardizing Source Date Data</b>  \n",
    "The source dates for ways and nodes come in various combinations of Years, Months and Days (ie. 2009, 2009-07, 2009-07-01) This format needs to be standardized so we can perform time series analysis on standardized data. A script was written to transform all dates into the format YYYYMMDD. The default value for any source date missing the month or day is Month = 01 and day = 01."
   ]
  },
  {
   "cell_type": "code",
   "execution_count": 21,
   "metadata": {
    "collapsed": false
   },
   "outputs": [
    {
     "name": "stdout",
     "output_type": "stream",
     "text": [
      "{u'source:date': u'20090101'}\n"
     ]
    }
   ],
   "source": [
    "print osm.find_one({\"source:date\":{\"$exists\":\"True\"}},{\"source:date\":1,\"_id\":0})"
   ]
  },
  {
   "cell_type": "markdown",
   "metadata": {},
   "source": [
    "<b>Further Data Analysis</b>"
   ]
  },
  {
   "cell_type": "markdown",
   "metadata": {},
   "source": [
    "Basic statistics of the Barcelona OSM dataset were obtained using various MongoDB queries.  \n",
    "\n",
    "Barcelona OSM dataset size = 184MB"
   ]
  },
  {
   "cell_type": "code",
   "execution_count": 29,
   "metadata": {
    "collapsed": false
   },
   "outputs": [
    {
     "name": "stdout",
     "output_type": "stream",
     "text": [
      "dataset record count = 961553\n",
      "unique users = 1684\n",
      "node count = 851717\n",
      "way count = 109539\n",
      "number of apartments = 4038\n",
      "dataset cities=72\n",
      "most common non-Barcelona city = Santa Coloma de Cervelló\n"
     ]
    }
   ],
   "source": [
    "print \"dataset record count = \" + str(osm.find().count())\n",
    "print \"unique users = \" + str(len(osm.distinct(\"created.user\")))\n",
    "print \"node count = \" +str(osm.find({\"type\":\"node\"}).count())\n",
    "print \"way count = \" +str(osm.find({\"type\":\"way\"}).count())\n",
    "print \"number of apartments = \" +str(osm.find({\"building\":\"apartments\"}).count())\n",
    "print \"dataset cities=\" + str(len(osm.distinct(\"addr:city\")))\n",
    "print \"most common non-Barcelona city = \" + (osm.aggregate([{\"$match\":{\"addr:city\":{\"$exists\":1,\"$nin\":[\"Barcelona\"]}}},\n",
    "                     {\"$group\":{\"_id\":\"$addr:city\", \"count\":{\"$sum\":1}}}, {\"$sort\":{\"count\":-1}},\n",
    "                      {\"$limit\":1}]).next()['_id']).encode(\"utf-8\")"
   ]
  },
  {
   "cell_type": "markdown",
   "metadata": {},
   "source": [
    "<b>Additional Ideas</b>  \n",
    "There is a large number of datapoints with missing house number data within the Barcelona dataset. In order correct for this missing data, it may be possible to use the assumption that house numbering follows a fairly linear pattern as you traverse each way, so using a linear interporated imputation for missing values may be a valid methodology. To implement this, we would need to iterate over the nodes found on each way (from the ways node_refs list) and collect each nodes \"addr:housenumber\" attribute. If the \"addr:housenumber\" attribute does not exist, we would lookup the 2 closest neighbors that do have \"addr:housenumber\" data using the lat/lon coordinates and then linearly interpotale the nearest whole number between those \"addr:housenumber\" data to be used as the nodes \"addr:housenumber\" data. This could prove to be a challenging methodology to implement, and does not gaurentee accuracy. It would be important to setup visualizations of the above approach to ensure it works as expected."
   ]
  },
  {
   "cell_type": "markdown",
   "metadata": {},
   "source": [
    "<b>Conclusions</b>   \n",
    "The missing and inconsistent data in the Barcelona OSM dataset seems to be prevelent and can prove to be the difficult to deal with. Simply checking if the data exists does not suffice for data inconsistencies, and ensuring that the data is in the expected form (ie. a single or list of house numbers) and actually exists, needs to be done before proper analysis can be performed, as was exemplified in the above report."
   ]
  }
 ],
 "metadata": {
  "kernelspec": {
   "display_name": "Python 2",
   "language": "python",
   "name": "python2"
  },
  "language_info": {
   "codemirror_mode": {
    "name": "ipython",
    "version": 2
   },
   "file_extension": ".py",
   "mimetype": "text/x-python",
   "name": "python",
   "nbconvert_exporter": "python",
   "pygments_lexer": "ipython2",
   "version": "2.7.3"
  }
 },
 "nbformat": 4,
 "nbformat_minor": 0
}
