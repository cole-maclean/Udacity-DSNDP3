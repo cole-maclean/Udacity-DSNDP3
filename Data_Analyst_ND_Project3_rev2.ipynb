{
 "cells": [
  {
   "cell_type": "markdown",
   "metadata": {},
   "source": [
    "Data Munging and Analyzing Barcelona OSM Data With MongoDB\n",
    "\n",
    "The XML data for the city boundary of Barcelona was downloaded from OSM to clean and transform into a json encodable structure to allow loading into MongoDB, providing storage and artbitrary querying to enable further data analysis of the Barcelona OSM dataset. I chose the Barcelona dataset because I just recently spent a few weeks there and noticed some pretty cool urban planning features of the city (ie. Avinguda Diagonal) that could be interesting to explore further.\n",
    "\n",
    "<img src=\"http://static1.squarespace.com/static/52b3aae6e4b00492bb71aa3d/t/54776cbde4b019f8929d0684/1414769949925/?format=1500w\" style=\"width: 650px;\">\n",
    "\n",
    "From [dailyoverview.com](http://www.dailyoverview.com/six/)"
   ]
  },
  {
   "cell_type": "markdown",
   "metadata": {},
   "source": [
    "Problems Encountered in the Dataset  \n",
    "After reviewing samples of the Barcelona OSM dataset, a few data quality issues were observed, including:\n",
    "1. Inconsistent house number - single numbers (ie. \"120\"), ranges (ie. \"119-121\") or lists (ie. \"119,121\")  \n",
    "2. Inconsistent sources dates - Various combinations of Year, Month and Day  "
   ]
  },
  {
   "cell_type": "markdown",
   "metadata": {},
   "source": [
    "Standardizing house number data  \n",
    "As part of auditing the OSM dataset for Barcelona, it was observed that the way houses are numbered are inconsistent. House numbers were standardized into lists of the numbers if delimited by a \"-\" or \",\", otherwise tranformed into a single item list of the \"addr:housenumber\" attribute. Once standardized, queries were run to see the top 5 most common house numbers in Barcelona."
   ]
  },
  {
   "cell_type": "code",
   "execution_count": 92,
   "metadata": {
    "collapsed": false
   },
   "outputs": [
    {
     "name": "stdout",
     "output_type": "stream",
     "text": [
      "house_num = 1 count = 304\n",
      "house_num = 2 count = 294\n",
      "house_num = 3 count = 278\n",
      "house_num = 5 count = 268\n",
      "house_num = 8 count = 252\n",
      "house_num = 4 count = 242\n",
      "house_num = 6 count = 237\n",
      "house_num = 7 count = 231\n",
      "house_num = 10 count = 226\n",
      "house_num = 9 count = 218\n",
      "house_num = 13 count = 195\n"
     ]
    }
   ],
   "source": [
    "import sys\n",
    "import json\n",
    "sys.path.insert(0,\"C:/Users/Cole/Desktop/Udacity/Data Analyst Nano Degree/Project 3\")\n",
    "import OSM_data_wrangling as OSMDW\n",
    "osm =OSMDW.connect_OSM_collection()\n",
    "house_nums = osm.aggregate([{\"$match\":{\"addr:housenumber\":{\"$exists\":1}}},{\"$unwind\":\"$addr:housenumber\"},\n",
    "                     {\"$group\":{\"_id\":\"$addr:housenumber\", \"count\":{\"$sum\":1}}}, {\"$sort\":{\"count\":-1}},\n",
    "                      {\"$limit\":11}])\n",
    "for house_num in house_nums:\n",
    "    print \"house_num = \" + house_num['_id'] + \" count = \" + str(house_num['count'])"
   ]
  },
  {
   "cell_type": "markdown",
   "metadata": {},
   "source": [
    "From this data, it appears that the rank of house number corresponds with its numerical value. It is interesting to note that the correlation is not exact, and numbers begin to jump around in order slightly after only the top 3 house numbers.\n"
   ]
  },
  {
   "cell_type": "markdown",
   "metadata": {},
   "source": [
    "Further Data Analysis"
   ]
  },
  {
   "cell_type": "markdown",
   "metadata": {},
   "source": [
    "Basic statistics of the Barcelona OSM dataset were obtained using various MongoDB queries.  \n",
    "\n",
    "Barcelona OSM dataset size = 184MB"
   ]
  },
  {
   "cell_type": "code",
   "execution_count": 135,
   "metadata": {
    "collapsed": false
   },
   "outputs": [
    {
     "name": "stdout",
     "output_type": "stream",
     "text": [
      "dataset record count = 961553\n",
      "dataset cities=72\n",
      "most common non-Barcelona city = Santa Coloma de Cervelló\n"
     ]
    }
   ],
   "source": [
    "print \"dataset record count = \" + str(osm.find().count())\n",
    "print \"dataset cities=\" + str(len(osm.distinct(\"addr:city\")))\n",
    "print \"most common non-Barcelona city = \" + (osm.aggregate([{\"$match\":{\"addr:city\":{\"$exists\":1,\"$nin\":[\"Barcelona\"]}}},\n",
    "                     {\"$group\":{\"_id\":\"$addr:city\", \"count\":{\"$sum\":1}}}, {\"$sort\":{\"count\":-1}},\n",
    "                      {\"$limit\":1}]).next()['_id']).encode(\"utf-8\")"
   ]
  },
  {
   "cell_type": "markdown",
   "metadata": {},
   "source": [
    "Additional Ideas  \n",
    "Continuing from the above analysis of most common house numbers, it presents the question of does the pattern of house rank being similiar to house number continue throughout the dataset, or does a seperation begin at later values? We could explore the dataset further to answer this question by producing a scatterplot of house number versus rank and visualize if any seperation in the linear trend appears. Defining the exact point of seperation (if one exists) could prove challenging, as we have seen that the house rank to number do not exactly line up 1 to 1 (ie. Rank 4 is house number 5, not 4). We would have to define a \"seperation\" criteria (ie. rank - house number > 10) or do some statistical analysis to test if a change in the pattern has infact occured.   "
   ]
  },
  {
   "cell_type": "markdown",
   "metadata": {},
   "source": [
    "Conclusions   \n",
    "Although there is missing data in the Barcelona OSM dataset, it is the data inconsistencies that seem most prevelent and can prove to be the most difficult to deal with. Simply checking if the data exists does not suffice for data inconsistencies, and ensuring that the data is in the expected form (ie. a single or list of house numbers) needs to be done before proper analysis can be performed, as was exemplified in the above report."
   ]
  }
 ],
 "metadata": {
  "kernelspec": {
   "display_name": "Python 2",
   "language": "python",
   "name": "python2"
  },
  "language_info": {
   "codemirror_mode": {
    "name": "ipython",
    "version": 2
   },
   "file_extension": ".py",
   "mimetype": "text/x-python",
   "name": "python",
   "nbconvert_exporter": "python",
   "pygments_lexer": "ipython2",
   "version": "2.7.3"
  }
 },
 "nbformat": 4,
 "nbformat_minor": 0
}
